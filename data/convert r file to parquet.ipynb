{
 "cells": [
  {
   "cell_type": "markdown",
   "metadata": {},
   "source": [
    "## RDataファイルをPythonファイルに変換する\n",
    "\n",
    "[```.RData```ファイル読込みライブラリのドキュメント](https://rdata.readthedocs.io/en/stable/modules/rdata.read_rda.html)"
   ]
  },
  {
   "cell_type": "markdown",
   "metadata": {},
   "source": [
    "### ライブラリのインポート"
   ]
  },
  {
   "cell_type": "code",
   "execution_count": 1,
   "metadata": {},
   "outputs": [],
   "source": [
    "import rdata\n",
    "import polars as pl"
   ]
  },
  {
   "cell_type": "markdown",
   "metadata": {},
   "source": [
    "### 2章\n",
    "```rdata```初使用のため,適宜データを表示する.\n",
    "\n",
    "まず,```.RData```ファイルを読み込む."
   ]
  },
  {
   "cell_type": "code",
   "execution_count": 2,
   "metadata": {},
   "outputs": [
    {
     "name": "stdout",
     "output_type": "stream",
     "text": [
      "{'data': array([2., 2., 4., 6., 4., 5., 2., 3., 1., 2., 0., 4., 3., 3., 3., 3., 4.,\n",
      "       2., 7., 2., 4., 3., 3., 3., 4., 3., 7., 5., 3., 1., 7., 6., 4., 6.,\n",
      "       5., 2., 4., 7., 2., 2., 6., 2., 4., 5., 4., 5., 1., 3., 2., 3.])}\n",
      "<class 'dict'>\n"
     ]
    },
    {
     "name": "stderr",
     "output_type": "stream",
     "text": [
      "c:\\Users\\treme\\.conda\\envs\\ds_env\\Lib\\site-packages\\rdata\\conversion\\_conversion.py:294: UserWarning: Unknown encoding. Assumed ASCII.\n",
      "  warnings.warn(\"Unknown encoding. Assumed ASCII.\")  # noqa: B028\n"
     ]
    }
   ],
   "source": [
    "data = rdata.read_rda(\"./ch 02/data.RData\")\n",
    "print(data)# 生データを眺める\n",
    "print(type(data))# データ型を確認する"
   ]
  },
  {
   "cell_type": "markdown",
   "metadata": {},
   "source": [
    "読み込んだ```.RData```ファイルは辞書型のため、```polars.DataFrame```にそのまま代入できる."
   ]
  },
  {
   "cell_type": "code",
   "execution_count": 3,
   "metadata": {},
   "outputs": [
    {
     "data": {
      "text/html": [
       "<div><style>\n",
       ".dataframe > thead > tr,\n",
       ".dataframe > tbody > tr {\n",
       "  text-align: right;\n",
       "  white-space: pre-wrap;\n",
       "}\n",
       "</style>\n",
       "<small>shape: (1, 51)</small><table border=\"1\" class=\"dataframe\"><thead><tr><th>column</th><th>column_0</th><th>column_1</th><th>column_2</th><th>column_3</th><th>column_4</th><th>column_5</th><th>column_6</th><th>column_7</th><th>column_8</th><th>column_9</th><th>column_10</th><th>column_11</th><th>column_12</th><th>column_13</th><th>column_14</th><th>column_15</th><th>column_16</th><th>column_17</th><th>column_18</th><th>column_19</th><th>column_20</th><th>column_21</th><th>column_22</th><th>column_23</th><th>column_24</th><th>column_25</th><th>column_26</th><th>column_27</th><th>column_28</th><th>column_29</th><th>column_30</th><th>column_31</th><th>column_32</th><th>column_33</th><th>column_34</th><th>column_35</th><th>column_36</th><th>column_37</th><th>column_38</th><th>column_39</th><th>column_40</th><th>column_41</th><th>column_42</th><th>column_43</th><th>column_44</th><th>column_45</th><th>column_46</th><th>column_47</th><th>column_48</th><th>column_49</th></tr><tr><td>str</td><td>f64</td><td>f64</td><td>f64</td><td>f64</td><td>f64</td><td>f64</td><td>f64</td><td>f64</td><td>f64</td><td>f64</td><td>f64</td><td>f64</td><td>f64</td><td>f64</td><td>f64</td><td>f64</td><td>f64</td><td>f64</td><td>f64</td><td>f64</td><td>f64</td><td>f64</td><td>f64</td><td>f64</td><td>f64</td><td>f64</td><td>f64</td><td>f64</td><td>f64</td><td>f64</td><td>f64</td><td>f64</td><td>f64</td><td>f64</td><td>f64</td><td>f64</td><td>f64</td><td>f64</td><td>f64</td><td>f64</td><td>f64</td><td>f64</td><td>f64</td><td>f64</td><td>f64</td><td>f64</td><td>f64</td><td>f64</td><td>f64</td><td>f64</td></tr></thead><tbody><tr><td>&quot;data&quot;</td><td>2.0</td><td>2.0</td><td>4.0</td><td>6.0</td><td>4.0</td><td>5.0</td><td>2.0</td><td>3.0</td><td>1.0</td><td>2.0</td><td>0.0</td><td>4.0</td><td>3.0</td><td>3.0</td><td>3.0</td><td>3.0</td><td>4.0</td><td>2.0</td><td>7.0</td><td>2.0</td><td>4.0</td><td>3.0</td><td>3.0</td><td>3.0</td><td>4.0</td><td>3.0</td><td>7.0</td><td>5.0</td><td>3.0</td><td>1.0</td><td>7.0</td><td>6.0</td><td>4.0</td><td>6.0</td><td>5.0</td><td>2.0</td><td>4.0</td><td>7.0</td><td>2.0</td><td>2.0</td><td>6.0</td><td>2.0</td><td>4.0</td><td>5.0</td><td>4.0</td><td>5.0</td><td>1.0</td><td>3.0</td><td>2.0</td><td>3.0</td></tr></tbody></table></div>"
      ],
      "text/plain": [
       "shape: (1, 51)\n",
       "┌────────┬──────────┬──────────┬──────────┬───┬───────────┬───────────┬───────────┬───────────┐\n",
       "│ column ┆ column_0 ┆ column_1 ┆ column_2 ┆ … ┆ column_46 ┆ column_47 ┆ column_48 ┆ column_49 │\n",
       "│ ---    ┆ ---      ┆ ---      ┆ ---      ┆   ┆ ---       ┆ ---       ┆ ---       ┆ ---       │\n",
       "│ str    ┆ f64      ┆ f64      ┆ f64      ┆   ┆ f64       ┆ f64       ┆ f64       ┆ f64       │\n",
       "╞════════╪══════════╪══════════╪══════════╪═══╪═══════════╪═══════════╪═══════════╪═══════════╡\n",
       "│ data   ┆ 2.0      ┆ 2.0      ┆ 4.0      ┆ … ┆ 1.0       ┆ 3.0       ┆ 2.0       ┆ 3.0       │\n",
       "└────────┴──────────┴──────────┴──────────┴───┴───────────┴───────────┴───────────┴───────────┘"
      ]
     },
     "execution_count": 3,
     "metadata": {},
     "output_type": "execute_result"
    }
   ],
   "source": [
    "data = pl.DataFrame(data)\n",
    "data.transpose(include_header = True)# 縦長だと見づらかった"
   ]
  },
  {
   "cell_type": "markdown",
   "metadata": {},
   "source": [
    "```.parquet```ファイルとして保存する."
   ]
  },
  {
   "cell_type": "code",
   "execution_count": 4,
   "metadata": {},
   "outputs": [],
   "source": [
    "data.write_parquet(\"./ch 02/data.parquet\")"
   ]
  },
  {
   "cell_type": "markdown",
   "metadata": {},
   "source": [
    "### 3章\n",
    "```.RData```ファイルは無いが,```.parquet```ファイルに変換する."
   ]
  },
  {
   "cell_type": "code",
   "execution_count": 5,
   "metadata": {},
   "outputs": [],
   "source": [
    "pl.read_csv(\"./ch 03/data3a.csv\").write_parquet(\"./ch 03/data3a.parquet\")"
   ]
  }
 ],
 "metadata": {
  "kernelspec": {
   "display_name": "ds_env",
   "language": "python",
   "name": "python3"
  },
  "language_info": {
   "codemirror_mode": {
    "name": "ipython",
    "version": 3
   },
   "file_extension": ".py",
   "mimetype": "text/x-python",
   "name": "python",
   "nbconvert_exporter": "python",
   "pygments_lexer": "ipython3",
   "version": "3.12.2"
  }
 },
 "nbformat": 4,
 "nbformat_minor": 2
}
