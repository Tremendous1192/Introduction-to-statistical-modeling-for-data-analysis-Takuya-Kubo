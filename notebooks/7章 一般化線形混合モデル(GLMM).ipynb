{
 "cells": [
  {
   "cell_type": "markdown",
   "metadata": {},
   "source": [
    "### ライブラリインポート"
   ]
  },
  {
   "cell_type": "code",
   "execution_count": 36,
   "metadata": {},
   "outputs": [],
   "source": [
    "import polars as pl\n",
    "import numpy as np\n",
    "\n",
    "import statsmodels.formula.api as smf\n",
    "import statsmodels.api as sm\n",
    "\n",
    "import seaborn as sns\n",
    "import matplotlib.pyplot as plt\n",
    "import japanize_matplotlib\n",
    "\n",
    "from scipy.stats import binom, logistic"
   ]
  },
  {
   "cell_type": "markdown",
   "metadata": {},
   "source": [
    "## 7.1 例題: GLMでは説明できないカウントデータ"
   ]
  },
  {
   "cell_type": "code",
   "execution_count": 37,
   "metadata": {},
   "outputs": [
    {
     "data": {
      "text/html": [
       "<div>\n",
       "<style scoped>\n",
       "    .dataframe tbody tr th:only-of-type {\n",
       "        vertical-align: middle;\n",
       "    }\n",
       "\n",
       "    .dataframe tbody tr th {\n",
       "        vertical-align: top;\n",
       "    }\n",
       "\n",
       "    .dataframe thead th {\n",
       "        text-align: right;\n",
       "    }\n",
       "</style>\n",
       "<table border=\"1\" class=\"dataframe\">\n",
       "  <thead>\n",
       "    <tr style=\"text-align: right;\">\n",
       "      <th></th>\n",
       "      <th>N</th>\n",
       "      <th>y</th>\n",
       "      <th>x</th>\n",
       "      <th>id</th>\n",
       "    </tr>\n",
       "  </thead>\n",
       "  <tbody>\n",
       "    <tr>\n",
       "      <th>0</th>\n",
       "      <td>8</td>\n",
       "      <td>0</td>\n",
       "      <td>2</td>\n",
       "      <td>1</td>\n",
       "    </tr>\n",
       "    <tr>\n",
       "      <th>1</th>\n",
       "      <td>8</td>\n",
       "      <td>1</td>\n",
       "      <td>2</td>\n",
       "      <td>2</td>\n",
       "    </tr>\n",
       "    <tr>\n",
       "      <th>2</th>\n",
       "      <td>8</td>\n",
       "      <td>2</td>\n",
       "      <td>2</td>\n",
       "      <td>3</td>\n",
       "    </tr>\n",
       "    <tr>\n",
       "      <th>3</th>\n",
       "      <td>8</td>\n",
       "      <td>4</td>\n",
       "      <td>2</td>\n",
       "      <td>4</td>\n",
       "    </tr>\n",
       "    <tr>\n",
       "      <th>4</th>\n",
       "      <td>8</td>\n",
       "      <td>1</td>\n",
       "      <td>2</td>\n",
       "      <td>5</td>\n",
       "    </tr>\n",
       "  </tbody>\n",
       "</table>\n",
       "</div>"
      ],
      "text/plain": [
       "   N  y  x  id\n",
       "0  8  0  2   1\n",
       "1  8  1  2   2\n",
       "2  8  2  2   3\n",
       "3  8  4  2   4\n",
       "4  8  1  2   5"
      ]
     },
     "execution_count": 37,
     "metadata": {},
     "output_type": "execute_result"
    }
   ],
   "source": [
    "d = pl.read_csv(\"../data/ch 07/data.csv\").to_pandas()\n",
    "d.head()"
   ]
  },
  {
   "cell_type": "code",
   "execution_count": 38,
   "metadata": {},
   "outputs": [
    {
     "name": "stderr",
     "output_type": "stream",
     "text": [
      "c:\\Users\\treme\\.conda\\envs\\ds_env\\Lib\\site-packages\\statsmodels\\genmod\\families\\links.py:13: FutureWarning: The logit link alias is deprecated. Use Logit instead. The logit link alias will be removed after the 0.15.0 release.\n",
      "  warnings.warn(\n"
     ]
    }
   ],
   "source": [
    "form = \"y + I(N - y) ~ x\"\n",
    "model = smf.glm(formula = form, data = d, family = sm.families.Binomial(link = sm.families.links.logit())).fit()"
   ]
  },
  {
   "cell_type": "code",
   "execution_count": 44,
   "metadata": {},
   "outputs": [
    {
     "name": "stderr",
     "output_type": "stream",
     "text": [
      "<>:9: SyntaxWarning: invalid escape sequence '\\c'\n",
      "<>:12: SyntaxWarning: invalid escape sequence '\\c'\n",
      "<>:9: SyntaxWarning: invalid escape sequence '\\c'\n",
      "<>:12: SyntaxWarning: invalid escape sequence '\\c'\n",
      "C:\\Users\\treme\\AppData\\Local\\Temp\\ipykernel_8244\\2609579546.py:9: SyntaxWarning: invalid escape sequence '\\c'\n",
      "  sns.scatterplot(x = d[\"x\"] + x_jitter, y = d[\"y\"], marker = \"$\\circ$\", ec = \"face\", s = 50, ax = axes[0])\n",
      "C:\\Users\\treme\\AppData\\Local\\Temp\\ipykernel_8244\\2609579546.py:12: SyntaxWarning: invalid escape sequence '\\c'\n",
      "  sns.scatterplot(data = d[ d[\"x\"] == 4 ].groupby(\"y\").agg({\"x\": \"sum\"}).reset_index(inplace=False), x = \"y\", y = \"x\", marker = \"$\\circ$\", ec = \"face\", s = 50, ax = axes[1])\n"
     ]
    },
    {
     "data": {
      "text/plain": [
       "(0.0, 17.0)"
      ]
     },
     "execution_count": 44,
     "metadata": {},
     "output_type": "execute_result"
    },
    {
     "data": {
      "image/png": "[encoded data removed]",
      "text/plain": [
       "<Figure size 900x400 with 2 Axes>"
      ]
     },
     "metadata": {},
     "output_type": "display_data"
    }
   ],
   "source": [
    "x_jitter = np.random.uniform(-0.1, 0.1, len(d))\n",
    "\n",
    "N = 100\n",
    "x1 = pl.DataFrame({\"x\": np.linspace(d[\"x\"].min(), d[\"x\"].max(), N)}).to_pandas()\n",
    "y1 = model.predict(x1)\n",
    "\n",
    "fig, axes = plt.subplots(1, 2, figsize = (9, 4))\n",
    "\n",
    "sns.scatterplot(x = d[\"x\"] + x_jitter, y = d[\"y\"], marker = \"$\\circ$\", ec = \"face\", s = 50, ax = axes[0])\n",
    "sns.lineplot(x = x1[\"x\"], y = y1, marker = None, linestyle = \"--\", color = \"black\", ax = axes[0])\n",
    "\n",
    "sns.scatterplot(data = d[ d[\"x\"] == 4 ].groupby(\"y\").agg({\"x\": \"sum\"}).reset_index(inplace=False), x = \"y\", y = \"x\", marker = \"$\\circ$\", ec = \"face\", s = 50, ax = axes[1])\n",
    "axes[1].set_ylim(0, 17)\n"
   ]
  },
  {
   "cell_type": "markdown",
   "metadata": {},
   "source": [
    "## 7.2 過分散と個体差"
   ]
  },
  {
   "cell_type": "markdown",
   "metadata": {},
   "source": [
    "### 7.2.1 可過分散: バラツキが大きすぎる"
   ]
  },
  {
   "cell_type": "code",
   "execution_count": 45,
   "metadata": {},
   "outputs": [],
   "source": [
    "d4 = d[ d[\"x\"] == 4 ]"
   ]
  },
  {
   "cell_type": "code",
   "execution_count": 46,
   "metadata": {},
   "outputs": [
    {
     "data": {
      "text/plain": [
       "y\n",
       "2    4\n",
       "0    3\n",
       "8    3\n",
       "7    3\n",
       "6    2\n",
       "3    2\n",
       "5    1\n",
       "4    1\n",
       "1    1\n",
       "Name: count, dtype: int64"
      ]
     },
     "execution_count": 46,
     "metadata": {},
     "output_type": "execute_result"
    }
   ],
   "source": [
    "d4[\"y\"].value_counts()"
   ]
  },
  {
   "cell_type": "code",
   "execution_count": 47,
   "metadata": {},
   "outputs": [
    {
     "data": {
      "text/plain": [
       "(4.05, 8.365789473684211)"
      ]
     },
     "execution_count": 47,
     "metadata": {},
     "output_type": "execute_result"
    }
   ],
   "source": [
    "d4[\"y\"].mean(), d4[\"y\"].var()"
   ]
  },
  {
   "cell_type": "markdown",
   "metadata": {},
   "source": [
    "### 7.2.2 観測されていない個体差がもたらす過分散"
   ]
  },
  {
   "cell_type": "markdown",
   "metadata": {},
   "source": [
    "### 7.2.3 観測されていない個体差とは何か?"
   ]
  },
  {
   "cell_type": "markdown",
   "metadata": {},
   "source": [
    "## 7.3 一般化線形混合モデル"
   ]
  },
  {
   "cell_type": "markdown",
   "metadata": {},
   "source": [
    "### 7.3.1 個体差をあらわすパラメータの追加"
   ]
  },
  {
   "cell_type": "markdown",
   "metadata": {},
   "source": [
    "### 7.3.3 線形予測子の構成要素: 固定効果とランダム効果"
   ]
  },
  {
   "cell_type": "markdown",
   "metadata": {},
   "source": [
    "## 7.4 一般化線形混合モデルの最尤推定"
   ]
  },
  {
   "cell_type": "markdown",
   "metadata": {},
   "source": [
    "### 7.4.1 Rを使ってGLMMのパラメータを推定"
   ]
  },
  {
   "cell_type": "markdown",
   "metadata": {},
   "source": [
    "## 7.5 現実のデータ解析にはGLMMが必要"
   ]
  },
  {
   "cell_type": "markdown",
   "metadata": {},
   "source": [
    "### 7.5.1 反復・疑似反復と統計モデルの関係"
   ]
  },
  {
   "cell_type": "markdown",
   "metadata": {},
   "source": [
    "## 7.6 いろいろな分布のGLMM"
   ]
  },
  {
   "cell_type": "markdown",
   "metadata": {},
   "source": [
    "## 7.7 この章のまとめと参考文献\n",
    "* ここまでの商の例題のような架空データならば,簡単なGLMを使ってデータにみられるパターンを説明できたが,現実のデータではGLMが上手く当てはまらない場合がある.\n",
    "* GLMでは「説明変数が同じならどの個体も均質」と仮定していたが,観測されていない個体差があるので,集団全体の生存種子数の分布は二項分布で期待されるより過分散なものになる.\n",
    "* このような状況に対応しているGLMMとは,線形予測子に個体差のばらつきをあらわすパラメータ$r_i$を追加し,全個体の$r_i$がある確率分布にしたがうと仮定したt王敬モデルである.\n",
    "* 積分によって$r_i$を消去した尤度を最大化することで,GLMMの切片・傾きそして個体差$r_i$のばらつきといった,大域的なパラメータを最尤推定できる.\n",
    "* ひとつの個体から複数のデータをとったり,ひとつの場所に多数の調査対象がいるような状況は疑似反復と呼ばれ,このような構造のデータに統計モデルをあてはめるときには,個体差・場所差などをくみこんだGLMMが必要である.\n",
    "* データのばらつきをあらわす確率分布の種類がどのようなものであっても,個体差・場所差などに影響されるデータの部分集合があれば,これらの効果をランダム効果としてくみこんだ統計モデルで推定しなければならない.\n",
    "\n",
    "* Crawley「統計学: Rを用いた入門書」\n",
    "* Venables & Ripely「Modern applied statistics with S」\n",
    "* Faraway 「Extending the linear model wih R」"
   ]
  }
 ],
 "metadata": {
  "kernelspec": {
   "display_name": "ds_env",
   "language": "python",
   "name": "python3"
  },
  "language_info": {
   "codemirror_mode": {
    "name": "ipython",
    "version": 3
   },
   "file_extension": ".py",
   "mimetype": "text/x-python",
   "name": "python",
   "nbconvert_exporter": "python",
   "pygments_lexer": "ipython3",
   "version": "3.12.2"
  }
 },
 "nbformat": 4,
 "nbformat_minor": 2
}
