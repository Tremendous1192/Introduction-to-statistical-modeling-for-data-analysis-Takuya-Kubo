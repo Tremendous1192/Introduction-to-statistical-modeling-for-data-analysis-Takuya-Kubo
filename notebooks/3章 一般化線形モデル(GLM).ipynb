{
 "cells": [
  {
   "cell_type": "markdown",
   "metadata": {},
   "source": [
    "## 3.1 例題: 個体ごとに平均種子数が異なる場合\n",
    ">架空植物100個体を調査して得られた,個体ごとの種子数のデータがあるとしましょう.\\\n",
    ">これを統計モデルを使ってどのように表現すればよいか,というのがこの章でとりくむ問題です.\n",
    "\n",
    "変数名\n",
    "* 植物個体のID: $i$\n",
    "* 種子数: $y_i$\n",
    "* 体サイズ: $x_i$\n",
    "* 全個体のうち50個体($i \\in \\{1, 2, ..., 50 \\}$)は何も処理をしていない($C$:コントロール)\n",
    "* 残り50個体($i \\in \\{51, 52, ..., 100 \\}$)には肥料を加える($T$:施肥処理)"
   ]
  },
  {
   "cell_type": "markdown",
   "metadata": {},
   "source": [
    "### ライブラリのインポート"
   ]
  },
  {
   "cell_type": "code",
   "execution_count": 1,
   "metadata": {},
   "outputs": [],
   "source": [
    "# ライブラリをインポートする\n",
    "import polars as pl\n",
    "import numpy as np\n",
    "\n",
    "import seaborn as sns\n",
    "import matplotlib.pyplot as plt\n",
    "import japanize_matplotlib\n",
    "\n",
    "from scipy.stats import poisson"
   ]
  },
  {
   "cell_type": "markdown",
   "metadata": {},
   "source": [
    "## 3.2 観測されたデータの概要を調べる\n",
    "```.parquet```拡張子に変換したファイルを読み込む."
   ]
  },
  {
   "cell_type": "code",
   "execution_count": 2,
   "metadata": {},
   "outputs": [],
   "source": [
    "# データを読み込む\n",
    "d = pl.read_parquet(\"../data/ch 03/data3a.parquet\")"
   ]
  },
  {
   "cell_type": "code",
   "execution_count": 3,
   "metadata": {},
   "outputs": [
    {
     "data": {
      "text/html": [
       "<div><style>\n",
       ".dataframe > thead > tr,\n",
       ".dataframe > tbody > tr {\n",
       "  text-align: right;\n",
       "  white-space: pre-wrap;\n",
       "}\n",
       "</style>\n",
       "<small>shape: (100, 3)</small><table border=\"1\" class=\"dataframe\"><thead><tr><th>y</th><th>x</th><th>f</th></tr><tr><td>i64</td><td>f64</td><td>str</td></tr></thead><tbody><tr><td>6</td><td>8.31</td><td>&quot;C&quot;</td></tr><tr><td>6</td><td>9.44</td><td>&quot;C&quot;</td></tr><tr><td>6</td><td>9.5</td><td>&quot;C&quot;</td></tr><tr><td>12</td><td>9.07</td><td>&quot;C&quot;</td></tr><tr><td>10</td><td>10.16</td><td>&quot;C&quot;</td></tr><tr><td>&hellip;</td><td>&hellip;</td><td>&hellip;</td></tr><tr><td>8</td><td>9.15</td><td>&quot;T&quot;</td></tr><tr><td>6</td><td>8.52</td><td>&quot;T&quot;</td></tr><tr><td>8</td><td>10.24</td><td>&quot;T&quot;</td></tr><tr><td>7</td><td>10.86</td><td>&quot;T&quot;</td></tr><tr><td>9</td><td>9.97</td><td>&quot;T&quot;</td></tr></tbody></table></div>"
      ],
      "text/plain": [
       "shape: (100, 3)\n",
       "┌─────┬───────┬─────┐\n",
       "│ y   ┆ x     ┆ f   │\n",
       "│ --- ┆ ---   ┆ --- │\n",
       "│ i64 ┆ f64   ┆ str │\n",
       "╞═════╪═══════╪═════╡\n",
       "│ 6   ┆ 8.31  ┆ C   │\n",
       "│ 6   ┆ 9.44  ┆ C   │\n",
       "│ 6   ┆ 9.5   ┆ C   │\n",
       "│ 12  ┆ 9.07  ┆ C   │\n",
       "│ 10  ┆ 10.16 ┆ C   │\n",
       "│ …   ┆ …     ┆ …   │\n",
       "│ 8   ┆ 9.15  ┆ T   │\n",
       "│ 6   ┆ 8.52  ┆ T   │\n",
       "│ 8   ┆ 10.24 ┆ T   │\n",
       "│ 7   ┆ 10.86 ┆ T   │\n",
       "│ 9   ┆ 9.97  ┆ T   │\n",
       "└─────┴───────┴─────┘"
      ]
     },
     "execution_count": 3,
     "metadata": {},
     "output_type": "execute_result"
    }
   ],
   "source": [
    "# データをディスプレイに表示する\n",
    "d"
   ]
  },
  {
   "cell_type": "markdown",
   "metadata": {},
   "source": [
    "列ごとにデータを表示する."
   ]
  },
  {
   "cell_type": "code",
   "execution_count": 4,
   "metadata": {},
   "outputs": [
    {
     "data": {
      "text/plain": [
       "array([ 8.31,  9.44,  9.5 ,  9.07, 10.16,  8.32, 10.61, 10.06,  9.93,\n",
       "       10.43, 10.36, 10.15, 10.92,  8.85,  9.42, 11.11,  8.02, 11.93,\n",
       "        8.55,  7.19,  9.83, 10.79,  8.89, 10.09, 11.63, 10.21,  9.45,\n",
       "       10.44,  9.44, 10.48,  9.43, 10.32, 10.33,  8.5 ,  9.41,  8.96,\n",
       "        9.67, 10.26, 10.36, 11.8 , 10.94, 10.25,  8.74, 10.46,  9.37,\n",
       "        9.74,  8.95,  8.74, 11.32,  9.25, 10.14,  9.05,  9.89,  8.76,\n",
       "       12.04,  9.91,  9.84, 11.87, 10.16,  9.34, 10.17, 10.99,  9.19,\n",
       "       10.67, 10.96, 10.55,  9.69, 10.91,  9.6 , 12.37, 10.54, 11.3 ,\n",
       "       12.4 , 10.18,  9.53, 10.24, 11.76,  9.52, 10.4 ,  9.96, 10.3 ,\n",
       "       11.54,  9.42, 11.28,  9.73, 10.78, 10.21, 10.51, 10.73,  8.85,\n",
       "       11.2 ,  9.86, 11.54, 10.03, 11.88,  9.15,  8.52, 10.24, 10.86,\n",
       "        9.97])"
      ]
     },
     "execution_count": 4,
     "metadata": {},
     "output_type": "execute_result"
    }
   ],
   "source": [
    "d[\"x\"].to_numpy()"
   ]
  },
  {
   "cell_type": "code",
   "execution_count": 5,
   "metadata": {},
   "outputs": [
    {
     "data": {
      "text/plain": [
       "array([ 6,  6,  6, 12, 10,  4,  9,  9,  9, 11,  6, 10,  6, 10, 11,  8,  3,\n",
       "        8,  5,  5,  4, 11,  5, 10,  6,  6,  7,  9,  3, 10,  2,  9, 10,  5,\n",
       "       11, 10,  4,  8,  9, 12,  8,  9,  8,  6,  6, 10, 10,  9, 12,  6, 14,\n",
       "        6,  7,  9,  6,  7,  9, 13,  9, 13,  7,  8, 10,  7, 12,  6, 15,  3,\n",
       "        4,  6, 10,  8,  8,  7,  5,  6,  8,  9,  9,  6,  7, 10,  6, 11, 11,\n",
       "       11,  5,  6,  4,  5,  6,  5,  8,  5,  9,  8,  6,  8,  7,  9],\n",
       "      dtype=int64)"
      ]
     },
     "execution_count": 5,
     "metadata": {},
     "output_type": "execute_result"
    }
   ],
   "source": [
    "d[\"y\"].to_numpy()"
   ]
  },
  {
   "cell_type": "code",
   "execution_count": 6,
   "metadata": {},
   "outputs": [
    {
     "data": {
      "text/plain": [
       "array(['C', 'C', 'C', 'C', 'C', 'C', 'C', 'C', 'C', 'C', 'C', 'C', 'C',\n",
       "       'C', 'C', 'C', 'C', 'C', 'C', 'C', 'C', 'C', 'C', 'C', 'C', 'C',\n",
       "       'C', 'C', 'C', 'C', 'C', 'C', 'C', 'C', 'C', 'C', 'C', 'C', 'C',\n",
       "       'C', 'C', 'C', 'C', 'C', 'C', 'C', 'C', 'C', 'C', 'C', 'T', 'T',\n",
       "       'T', 'T', 'T', 'T', 'T', 'T', 'T', 'T', 'T', 'T', 'T', 'T', 'T',\n",
       "       'T', 'T', 'T', 'T', 'T', 'T', 'T', 'T', 'T', 'T', 'T', 'T', 'T',\n",
       "       'T', 'T', 'T', 'T', 'T', 'T', 'T', 'T', 'T', 'T', 'T', 'T', 'T',\n",
       "       'T', 'T', 'T', 'T', 'T', 'T', 'T', 'T', 'T'], dtype=object)"
      ]
     },
     "execution_count": 6,
     "metadata": {},
     "output_type": "execute_result"
    }
   ],
   "source": [
    "d[\"f\"].to_numpy()"
   ]
  },
  {
   "cell_type": "code",
   "execution_count": 7,
   "metadata": {},
   "outputs": [
    {
     "name": "stdout",
     "output_type": "stream",
     "text": [
      "Int64\n",
      "Float64\n",
      "String\n"
     ]
    }
   ],
   "source": [
    "# データ型を確認する\n",
    "print(d[\"y\"].dtype)\n",
    "print(d[\"x\"].dtype)\n",
    "print(d[\"f\"].dtype)"
   ]
  },
  {
   "cell_type": "code",
   "execution_count": 8,
   "metadata": {},
   "outputs": [
    {
     "data": {
      "text/html": [
       "<div><style>\n",
       ".dataframe > thead > tr,\n",
       ".dataframe > tbody > tr {\n",
       "  text-align: right;\n",
       "  white-space: pre-wrap;\n",
       "}\n",
       "</style>\n",
       "<small>shape: (9, 4)</small><table border=\"1\" class=\"dataframe\"><thead><tr><th>statistic</th><th>y</th><th>x</th><th>f</th></tr><tr><td>str</td><td>f64</td><td>f64</td><td>str</td></tr></thead><tbody><tr><td>&quot;count&quot;</td><td>100.0</td><td>100.0</td><td>&quot;100&quot;</td></tr><tr><td>&quot;null_count&quot;</td><td>0.0</td><td>0.0</td><td>&quot;0&quot;</td></tr><tr><td>&quot;mean&quot;</td><td>7.83</td><td>10.0891</td><td>null</td></tr><tr><td>&quot;std&quot;</td><td>2.624881</td><td>1.008049</td><td>null</td></tr><tr><td>&quot;min&quot;</td><td>2.0</td><td>7.19</td><td>&quot;C&quot;</td></tr><tr><td>&quot;25%&quot;</td><td>6.0</td><td>9.43</td><td>null</td></tr><tr><td>&quot;50%&quot;</td><td>8.0</td><td>10.16</td><td>null</td></tr><tr><td>&quot;75%&quot;</td><td>10.0</td><td>10.67</td><td>null</td></tr><tr><td>&quot;max&quot;</td><td>15.0</td><td>12.4</td><td>&quot;T&quot;</td></tr></tbody></table></div>"
      ],
      "text/plain": [
       "shape: (9, 4)\n",
       "┌────────────┬──────────┬──────────┬──────┐\n",
       "│ statistic  ┆ y        ┆ x        ┆ f    │\n",
       "│ ---        ┆ ---      ┆ ---      ┆ ---  │\n",
       "│ str        ┆ f64      ┆ f64      ┆ str  │\n",
       "╞════════════╪══════════╪══════════╪══════╡\n",
       "│ count      ┆ 100.0    ┆ 100.0    ┆ 100  │\n",
       "│ null_count ┆ 0.0      ┆ 0.0      ┆ 0    │\n",
       "│ mean       ┆ 7.83     ┆ 10.0891  ┆ null │\n",
       "│ std        ┆ 2.624881 ┆ 1.008049 ┆ null │\n",
       "│ min        ┆ 2.0      ┆ 7.19     ┆ C    │\n",
       "│ 25%        ┆ 6.0      ┆ 9.43     ┆ null │\n",
       "│ 50%        ┆ 8.0      ┆ 10.16    ┆ null │\n",
       "│ 75%        ┆ 10.0     ┆ 10.67    ┆ null │\n",
       "│ max        ┆ 15.0     ┆ 12.4     ┆ T    │\n",
       "└────────────┴──────────┴──────────┴──────┘"
      ]
     },
     "execution_count": 8,
     "metadata": {},
     "output_type": "execute_result"
    }
   ],
   "source": [
    "# データの概要を確認する\n",
    "d.describe()"
   ]
  },
  {
   "cell_type": "markdown",
   "metadata": {},
   "source": [
    "## 3.3 統計モデリングの前にデータを図示する"
   ]
  },
  {
   "cell_type": "code",
   "execution_count": 9,
   "metadata": {},
   "outputs": [
    {
     "data": {
      "text/plain": [
       "Text(0.5, 1.0, '図3.2 例題の架空データの図示')"
      ]
     },
     "execution_count": 9,
     "metadata": {},
     "output_type": "execute_result"
    },
    {
     "data": {
      "image/png": "[encoded data removed]",
      "text/plain": [
       "<Figure size 640x480 with 1 Axes>"
      ]
     },
     "metadata": {},
     "output_type": "display_data"
    }
   ],
   "source": [
    "# 体サイズxと種子数yの散布図\n",
    "sns.scatterplot(data = d.to_pandas(), x = \"x\", y = \"y\", hue = \"f\")\n",
    "plt.legend(loc = \"best\")\n",
    "plt.title(\"図3.2 例題の架空データの図示\")"
   ]
  },
  {
   "cell_type": "code",
   "execution_count": 10,
   "metadata": {},
   "outputs": [
    {
     "data": {
      "text/plain": [
       "Text(0.5, 1.0, '図3.3 植物の種子数の分布を,施肥処理fiでグループ分けした箱ひげ図')"
      ]
     },
     "execution_count": 10,
     "metadata": {},
     "output_type": "execute_result"
    },
    {
     "data": {
      "image/png": "[encoded data removed]",
      "text/plain": [
       "<Figure size 640x480 with 1 Axes>"
      ]
     },
     "metadata": {},
     "output_type": "display_data"
    }
   ],
   "source": [
    "# 施肥処理fと種子数yの箱ひげ図\n",
    "sns.boxplot(data = d.to_pandas(), x = \"f\", y = \"y\")\n",
    "plt.title(\"図3.3 植物の種子数の分布を,施肥処理fiでグループ分けした箱ひげ図\")"
   ]
  },
  {
   "cell_type": "markdown",
   "metadata": {},
   "source": [
    "## 3.4 ポアソン回帰の統計モデル\n",
    "ポアソン分布\n",
    "* $p(y | \\lambda) =  \\frac{\\lambda ^ y exp(- \\lambda)}{y !}$\n",
    "\n",
    "### 3.4.1 線形予測子と対数リンク関数\n",
    "* $\\lambda =  \\exp ( \\beta _1 + \\beta _2 x_i )$: 個体$i$の平均種子数$\\lambda _i$\n",
    "* $\\log \\lambda =  \\beta _1 + \\beta _2 x_i$: (リンク関数) $=$ (線形予測子)\n",
    "\n",
    "### 3.4.2 あてはめとあてはまりの良さ"
   ]
  },
  {
   "cell_type": "code",
   "execution_count": 11,
   "metadata": {},
   "outputs": [
    {
     "data": {
      "text/html": [
       "<table class=\"simpletable\">\n",
       "<caption>Generalized Linear Model Regression Results</caption>\n",
       "<tr>\n",
       "  <th>Dep. Variable:</th>           <td>y</td>        <th>  No. Observations:  </th>  <td>   100</td> \n",
       "</tr>\n",
       "<tr>\n",
       "  <th>Model:</th>                  <td>GLM</td>       <th>  Df Residuals:      </th>  <td>    98</td> \n",
       "</tr>\n",
       "<tr>\n",
       "  <th>Model Family:</th>         <td>Poisson</td>     <th>  Df Model:          </th>  <td>     1</td> \n",
       "</tr>\n",
       "<tr>\n",
       "  <th>Link Function:</th>          <td>Log</td>       <th>  Scale:             </th> <td>  1.0000</td>\n",
       "</tr>\n",
       "<tr>\n",
       "  <th>Method:</th>                <td>IRLS</td>       <th>  Log-Likelihood:    </th> <td> -235.39</td>\n",
       "</tr>\n",
       "<tr>\n",
       "  <th>Date:</th>            <td>Thu, 28 Mar 2024</td> <th>  Deviance:          </th> <td>  84.993</td>\n",
       "</tr>\n",
       "<tr>\n",
       "  <th>Time:</th>                <td>21:17:42</td>     <th>  Pearson chi2:      </th>  <td>  83.8</td> \n",
       "</tr>\n",
       "<tr>\n",
       "  <th>No. Iterations:</th>          <td>4</td>        <th>  Pseudo R-squ. (CS):</th>  <td>0.04414</td>\n",
       "</tr>\n",
       "<tr>\n",
       "  <th>Covariance Type:</th>     <td>nonrobust</td>    <th>                     </th>     <td> </td>   \n",
       "</tr>\n",
       "</table>\n",
       "<table class=\"simpletable\">\n",
       "<tr>\n",
       "      <td></td>         <th>coef</th>     <th>std err</th>      <th>z</th>      <th>P>|z|</th>  <th>[0.025</th>    <th>0.975]</th>  \n",
       "</tr>\n",
       "<tr>\n",
       "  <th>Intercept</th> <td>    1.2917</td> <td>    0.364</td> <td>    3.552</td> <td> 0.000</td> <td>    0.579</td> <td>    2.005</td>\n",
       "</tr>\n",
       "<tr>\n",
       "  <th>x</th>         <td>    0.0757</td> <td>    0.036</td> <td>    2.125</td> <td> 0.034</td> <td>    0.006</td> <td>    0.145</td>\n",
       "</tr>\n",
       "</table>"
      ],
      "text/latex": [
       "\\begin{center}\n",
       "\\begin{tabular}{lclc}\n",
       "\\toprule\n",
       "\\textbf{Dep. Variable:}   &        y         & \\textbf{  No. Observations:  } &      100    \\\\\n",
       "\\textbf{Model:}           &       GLM        & \\textbf{  Df Residuals:      } &       98    \\\\\n",
       "\\textbf{Model Family:}    &     Poisson      & \\textbf{  Df Model:          } &        1    \\\\\n",
       "\\textbf{Link Function:}   &       Log        & \\textbf{  Scale:             } &    1.0000   \\\\\n",
       "\\textbf{Method:}          &       IRLS       & \\textbf{  Log-Likelihood:    } &   -235.39   \\\\\n",
       "\\textbf{Date:}            & Thu, 28 Mar 2024 & \\textbf{  Deviance:          } &    84.993   \\\\\n",
       "\\textbf{Time:}            &     21:17:42     & \\textbf{  Pearson chi2:      } &     83.8    \\\\\n",
       "\\textbf{No. Iterations:}  &        4         & \\textbf{  Pseudo R-squ. (CS):} &  0.04414    \\\\\n",
       "\\textbf{Covariance Type:} &    nonrobust     & \\textbf{                     } &             \\\\\n",
       "\\bottomrule\n",
       "\\end{tabular}\n",
       "\\begin{tabular}{lcccccc}\n",
       "                   & \\textbf{coef} & \\textbf{std err} & \\textbf{z} & \\textbf{P$> |$z$|$} & \\textbf{[0.025} & \\textbf{0.975]}  \\\\\n",
       "\\midrule\n",
       "\\textbf{Intercept} &       1.2917  &        0.364     &     3.552  &         0.000        &        0.579    &        2.005     \\\\\n",
       "\\textbf{x}         &       0.0757  &        0.036     &     2.125  &         0.034        &        0.006    &        0.145     \\\\\n",
       "\\bottomrule\n",
       "\\end{tabular}\n",
       "%\\caption{Generalized Linear Model Regression Results}\n",
       "\\end{center}"
      ],
      "text/plain": [
       "<class 'statsmodels.iolib.summary.Summary'>\n",
       "\"\"\"\n",
       "                 Generalized Linear Model Regression Results                  \n",
       "==============================================================================\n",
       "Dep. Variable:                      y   No. Observations:                  100\n",
       "Model:                            GLM   Df Residuals:                       98\n",
       "Model Family:                 Poisson   Df Model:                            1\n",
       "Link Function:                    Log   Scale:                          1.0000\n",
       "Method:                          IRLS   Log-Likelihood:                -235.39\n",
       "Date:                Thu, 28 Mar 2024   Deviance:                       84.993\n",
       "Time:                        21:17:42   Pearson chi2:                     83.8\n",
       "No. Iterations:                     4   Pseudo R-squ. (CS):            0.04414\n",
       "Covariance Type:            nonrobust                                         \n",
       "==============================================================================\n",
       "                 coef    std err          z      P>|z|      [0.025      0.975]\n",
       "------------------------------------------------------------------------------\n",
       "Intercept      1.2917      0.364      3.552      0.000       0.579       2.005\n",
       "x              0.0757      0.036      2.125      0.034       0.006       0.145\n",
       "==============================================================================\n",
       "\"\"\""
      ]
     },
     "execution_count": 11,
     "metadata": {},
     "output_type": "execute_result"
    }
   ],
   "source": [
    "# GLMの当てはめを行う\n",
    "import statsmodels.formula.api as smf\n",
    "import statsmodels.api as sm\n",
    "\n",
    "model = smf.glm(\"y ~ x\", d, family = sm.families.Poisson()).fit()\n",
    "model.summary()"
   ]
  },
  {
   "cell_type": "markdown",
   "metadata": {},
   "source": [
    "結果出力より,\n",
    "* $\\hat{\\beta}_1 = 1.29$\n",
    "* $\\hat{\\beta}_2 = 0.0757$\n",
    "\n",
    "であることがわかった."
   ]
  },
  {
   "cell_type": "code",
   "execution_count": 12,
   "metadata": {},
   "outputs": [
    {
     "data": {
      "text/plain": [
       "-235.38625076986077"
      ]
     },
     "execution_count": 12,
     "metadata": {},
     "output_type": "execute_result"
    }
   ],
   "source": [
    "# このモデルの最大対数尤度を得る\n",
    "model.llf"
   ]
  },
  {
   "cell_type": "code",
   "execution_count": 13,
   "metadata": {},
   "outputs": [
    {
     "name": "stdout",
     "output_type": "stream",
     "text": [
      "Intercept    1.291721\n",
      "x            0.075662\n",
      "dtype: float64\n",
      "1.291720838642378\n",
      "0.07566191454072188\n"
     ]
    }
   ],
   "source": [
    "print(model.params)\n",
    "print(model.params.iloc[0])\n",
    "print(model.params.iloc[1])"
   ]
  },
  {
   "cell_type": "markdown",
   "metadata": {},
   "source": [
    "### 3.4.3 ポアソン回帰モデルによる予測"
   ]
  },
  {
   "cell_type": "code",
   "execution_count": 14,
   "metadata": {},
   "outputs": [
    {
     "data": {
      "text/plain": [
       "Text(0.5, 1.0, '図3.7 平均種子数λの予測')"
      ]
     },
     "execution_count": 14,
     "metadata": {},
     "output_type": "execute_result"
    },
    {
     "data": {
      "image/png": "[encoded data removed]",
      "text/plain": [
       "<Figure size 640x480 with 1 Axes>"
      ]
     },
     "metadata": {},
     "output_type": "display_data"
    }
   ],
   "source": [
    "# モデルの当てはまりをグラフで確認する\n",
    "sns.scatterplot(data = d.to_pandas(), x = \"x\", y = \"y\", hue = \"f\")\n",
    "\n",
    "xx = np.linspace(d[\"x\"].min(), d[\"x\"].max(), 100)\n",
    "plt.plot(xx, np.exp(model.params.iloc[0] + model.params.iloc[1] * xx),\n",
    "         color = \"black\", linewidth = 1)\n",
    "\n",
    "plt.legend(loc = \"best\")\n",
    "plt.title(\"図3.7 平均種子数λの予測\")"
   ]
  },
  {
   "cell_type": "code",
   "execution_count": 15,
   "metadata": {},
   "outputs": [
    {
     "data": {
      "text/plain": [
       "Text(0.5, 1.0, '図3.7 平均種子数λの予測')"
      ]
     },
     "execution_count": 15,
     "metadata": {},
     "output_type": "execute_result"
    },
    {
     "data": {
      "image/png": "[encoded data removed]",
      "text/plain": [
       "<Figure size 640x480 with 1 Axes>"
      ]
     },
     "metadata": {},
     "output_type": "display_data"
    }
   ],
   "source": [
    "# モデルの当てはまりをグラフで確認する(predict関数を使用する)\n",
    "sns.scatterplot(data = d.to_pandas(), x = \"x\", y = \"y\", hue = \"f\")\n",
    "\n",
    "xx = pl.DataFrame({\"x\": np.linspace(d[\"x\"].min(), d[\"x\"].max(), 100)})\n",
    "plt.plot(xx, model.predict(xx),\n",
    "         color = \"black\", linewidth = 1)\n",
    "\n",
    "plt.legend(loc = \"best\")\n",
    "plt.title(\"図3.7 平均種子数λの予測\")"
   ]
  },
  {
   "cell_type": "markdown",
   "metadata": {},
   "source": [
    "## 3.5 説明変数が因子型の統計モデル"
   ]
  },
  {
   "cell_type": "code",
   "execution_count": 16,
   "metadata": {},
   "outputs": [
    {
     "data": {
      "text/html": [
       "<table class=\"simpletable\">\n",
       "<caption>Generalized Linear Model Regression Results</caption>\n",
       "<tr>\n",
       "  <th>Dep. Variable:</th>           <td>y</td>        <th>  No. Observations:  </th>  <td>   100</td>  \n",
       "</tr>\n",
       "<tr>\n",
       "  <th>Model:</th>                  <td>GLM</td>       <th>  Df Residuals:      </th>  <td>    98</td>  \n",
       "</tr>\n",
       "<tr>\n",
       "  <th>Model Family:</th>         <td>Poisson</td>     <th>  Df Model:          </th>  <td>     1</td>  \n",
       "</tr>\n",
       "<tr>\n",
       "  <th>Link Function:</th>          <td>Log</td>       <th>  Scale:             </th> <td>  1.0000</td> \n",
       "</tr>\n",
       "<tr>\n",
       "  <th>Method:</th>                <td>IRLS</td>       <th>  Log-Likelihood:    </th> <td> -237.63</td> \n",
       "</tr>\n",
       "<tr>\n",
       "  <th>Date:</th>            <td>Thu, 28 Mar 2024</td> <th>  Deviance:          </th> <td>  89.475</td> \n",
       "</tr>\n",
       "<tr>\n",
       "  <th>Time:</th>                <td>21:17:43</td>     <th>  Pearson chi2:      </th>  <td>  87.1</td>  \n",
       "</tr>\n",
       "<tr>\n",
       "  <th>No. Iterations:</th>          <td>4</td>        <th>  Pseudo R-squ. (CS):</th> <td>0.0003192</td>\n",
       "</tr>\n",
       "<tr>\n",
       "  <th>Covariance Type:</th>     <td>nonrobust</td>    <th>                     </th>     <td> </td>    \n",
       "</tr>\n",
       "</table>\n",
       "<table class=\"simpletable\">\n",
       "<tr>\n",
       "      <td></td>         <th>coef</th>     <th>std err</th>      <th>z</th>      <th>P>|z|</th>  <th>[0.025</th>    <th>0.975]</th>  \n",
       "</tr>\n",
       "<tr>\n",
       "  <th>Intercept</th> <td>    2.0516</td> <td>    0.051</td> <td>   40.463</td> <td> 0.000</td> <td>    1.952</td> <td>    2.151</td>\n",
       "</tr>\n",
       "<tr>\n",
       "  <th>f[T.T]</th>    <td>    0.0128</td> <td>    0.071</td> <td>    0.179</td> <td> 0.858</td> <td>   -0.127</td> <td>    0.153</td>\n",
       "</tr>\n",
       "</table>"
      ],
      "text/latex": [
       "\\begin{center}\n",
       "\\begin{tabular}{lclc}\n",
       "\\toprule\n",
       "\\textbf{Dep. Variable:}   &        y         & \\textbf{  No. Observations:  } &      100    \\\\\n",
       "\\textbf{Model:}           &       GLM        & \\textbf{  Df Residuals:      } &       98    \\\\\n",
       "\\textbf{Model Family:}    &     Poisson      & \\textbf{  Df Model:          } &        1    \\\\\n",
       "\\textbf{Link Function:}   &       Log        & \\textbf{  Scale:             } &    1.0000   \\\\\n",
       "\\textbf{Method:}          &       IRLS       & \\textbf{  Log-Likelihood:    } &   -237.63   \\\\\n",
       "\\textbf{Date:}            & Thu, 28 Mar 2024 & \\textbf{  Deviance:          } &    89.475   \\\\\n",
       "\\textbf{Time:}            &     21:17:43     & \\textbf{  Pearson chi2:      } &     87.1    \\\\\n",
       "\\textbf{No. Iterations:}  &        4         & \\textbf{  Pseudo R-squ. (CS):} & 0.0003192   \\\\\n",
       "\\textbf{Covariance Type:} &    nonrobust     & \\textbf{                     } &             \\\\\n",
       "\\bottomrule\n",
       "\\end{tabular}\n",
       "\\begin{tabular}{lcccccc}\n",
       "                   & \\textbf{coef} & \\textbf{std err} & \\textbf{z} & \\textbf{P$> |$z$|$} & \\textbf{[0.025} & \\textbf{0.975]}  \\\\\n",
       "\\midrule\n",
       "\\textbf{Intercept} &       2.0516  &        0.051     &    40.463  &         0.000        &        1.952    &        2.151     \\\\\n",
       "\\textbf{f[T.T]}    &       0.0128  &        0.071     &     0.179  &         0.858        &       -0.127    &        0.153     \\\\\n",
       "\\bottomrule\n",
       "\\end{tabular}\n",
       "%\\caption{Generalized Linear Model Regression Results}\n",
       "\\end{center}"
      ],
      "text/plain": [
       "<class 'statsmodels.iolib.summary.Summary'>\n",
       "\"\"\"\n",
       "                 Generalized Linear Model Regression Results                  \n",
       "==============================================================================\n",
       "Dep. Variable:                      y   No. Observations:                  100\n",
       "Model:                            GLM   Df Residuals:                       98\n",
       "Model Family:                 Poisson   Df Model:                            1\n",
       "Link Function:                    Log   Scale:                          1.0000\n",
       "Method:                          IRLS   Log-Likelihood:                -237.63\n",
       "Date:                Thu, 28 Mar 2024   Deviance:                       89.475\n",
       "Time:                        21:17:43   Pearson chi2:                     87.1\n",
       "No. Iterations:                     4   Pseudo R-squ. (CS):          0.0003192\n",
       "Covariance Type:            nonrobust                                         \n",
       "==============================================================================\n",
       "                 coef    std err          z      P>|z|      [0.025      0.975]\n",
       "------------------------------------------------------------------------------\n",
       "Intercept      2.0516      0.051     40.463      0.000       1.952       2.151\n",
       "f[T.T]         0.0128      0.071      0.179      0.858      -0.127       0.153\n",
       "==============================================================================\n",
       "\"\"\""
      ]
     },
     "execution_count": 16,
     "metadata": {},
     "output_type": "execute_result"
    }
   ],
   "source": [
    "#カテゴリ変数を使う場合は,Pandas.DataFrameに変換する\n",
    "model2 = smf.glm(\"y ~ f\", d.to_pandas(), family = sm.families.Poisson()).fit()\n",
    "model2.summary()"
   ]
  },
  {
   "cell_type": "code",
   "execution_count": 17,
   "metadata": {},
   "outputs": [
    {
     "data": {
      "text/plain": [
       "-237.62725696068682"
      ]
     },
     "execution_count": 17,
     "metadata": {},
     "output_type": "execute_result"
    }
   ],
   "source": [
    "# 対数尤度\n",
    "model2.llf"
   ]
  },
  {
   "cell_type": "markdown",
   "metadata": {},
   "source": [
    "## 3.6 説明変数が数量型 + 因子型の統計モデル"
   ]
  },
  {
   "cell_type": "code",
   "execution_count": 18,
   "metadata": {},
   "outputs": [
    {
     "data": {
      "text/html": [
       "<table class=\"simpletable\">\n",
       "<caption>Generalized Linear Model Regression Results</caption>\n",
       "<tr>\n",
       "  <th>Dep. Variable:</th>           <td>y</td>        <th>  No. Observations:  </th>  <td>   100</td> \n",
       "</tr>\n",
       "<tr>\n",
       "  <th>Model:</th>                  <td>GLM</td>       <th>  Df Residuals:      </th>  <td>    97</td> \n",
       "</tr>\n",
       "<tr>\n",
       "  <th>Model Family:</th>         <td>Poisson</td>     <th>  Df Model:          </th>  <td>     2</td> \n",
       "</tr>\n",
       "<tr>\n",
       "  <th>Link Function:</th>          <td>Log</td>       <th>  Scale:             </th> <td>  1.0000</td>\n",
       "</tr>\n",
       "<tr>\n",
       "  <th>Method:</th>                <td>IRLS</td>       <th>  Log-Likelihood:    </th> <td> -235.29</td>\n",
       "</tr>\n",
       "<tr>\n",
       "  <th>Date:</th>            <td>Thu, 28 Mar 2024</td> <th>  Deviance:          </th> <td>  84.808</td>\n",
       "</tr>\n",
       "<tr>\n",
       "  <th>Time:</th>                <td>21:17:43</td>     <th>  Pearson chi2:      </th>  <td>  83.8</td> \n",
       "</tr>\n",
       "<tr>\n",
       "  <th>No. Iterations:</th>          <td>4</td>        <th>  Pseudo R-squ. (CS):</th>  <td>0.04590</td>\n",
       "</tr>\n",
       "<tr>\n",
       "  <th>Covariance Type:</th>     <td>nonrobust</td>    <th>                     </th>     <td> </td>   \n",
       "</tr>\n",
       "</table>\n",
       "<table class=\"simpletable\">\n",
       "<tr>\n",
       "      <td></td>         <th>coef</th>     <th>std err</th>      <th>z</th>      <th>P>|z|</th>  <th>[0.025</th>    <th>0.975]</th>  \n",
       "</tr>\n",
       "<tr>\n",
       "  <th>Intercept</th> <td>    1.2631</td> <td>    0.370</td> <td>    3.417</td> <td> 0.001</td> <td>    0.539</td> <td>    1.988</td>\n",
       "</tr>\n",
       "<tr>\n",
       "  <th>f[T.T]</th>    <td>   -0.0320</td> <td>    0.074</td> <td>   -0.430</td> <td> 0.667</td> <td>   -0.178</td> <td>    0.114</td>\n",
       "</tr>\n",
       "<tr>\n",
       "  <th>x</th>         <td>    0.0801</td> <td>    0.037</td> <td>    2.162</td> <td> 0.031</td> <td>    0.007</td> <td>    0.153</td>\n",
       "</tr>\n",
       "</table>"
      ],
      "text/latex": [
       "\\begin{center}\n",
       "\\begin{tabular}{lclc}\n",
       "\\toprule\n",
       "\\textbf{Dep. Variable:}   &        y         & \\textbf{  No. Observations:  } &      100    \\\\\n",
       "\\textbf{Model:}           &       GLM        & \\textbf{  Df Residuals:      } &       97    \\\\\n",
       "\\textbf{Model Family:}    &     Poisson      & \\textbf{  Df Model:          } &        2    \\\\\n",
       "\\textbf{Link Function:}   &       Log        & \\textbf{  Scale:             } &    1.0000   \\\\\n",
       "\\textbf{Method:}          &       IRLS       & \\textbf{  Log-Likelihood:    } &   -235.29   \\\\\n",
       "\\textbf{Date:}            & Thu, 28 Mar 2024 & \\textbf{  Deviance:          } &    84.808   \\\\\n",
       "\\textbf{Time:}            &     21:17:43     & \\textbf{  Pearson chi2:      } &     83.8    \\\\\n",
       "\\textbf{No. Iterations:}  &        4         & \\textbf{  Pseudo R-squ. (CS):} &  0.04590    \\\\\n",
       "\\textbf{Covariance Type:} &    nonrobust     & \\textbf{                     } &             \\\\\n",
       "\\bottomrule\n",
       "\\end{tabular}\n",
       "\\begin{tabular}{lcccccc}\n",
       "                   & \\textbf{coef} & \\textbf{std err} & \\textbf{z} & \\textbf{P$> |$z$|$} & \\textbf{[0.025} & \\textbf{0.975]}  \\\\\n",
       "\\midrule\n",
       "\\textbf{Intercept} &       1.2631  &        0.370     &     3.417  &         0.001        &        0.539    &        1.988     \\\\\n",
       "\\textbf{f[T.T]}    &      -0.0320  &        0.074     &    -0.430  &         0.667        &       -0.178    &        0.114     \\\\\n",
       "\\textbf{x}         &       0.0801  &        0.037     &     2.162  &         0.031        &        0.007    &        0.153     \\\\\n",
       "\\bottomrule\n",
       "\\end{tabular}\n",
       "%\\caption{Generalized Linear Model Regression Results}\n",
       "\\end{center}"
      ],
      "text/plain": [
       "<class 'statsmodels.iolib.summary.Summary'>\n",
       "\"\"\"\n",
       "                 Generalized Linear Model Regression Results                  \n",
       "==============================================================================\n",
       "Dep. Variable:                      y   No. Observations:                  100\n",
       "Model:                            GLM   Df Residuals:                       97\n",
       "Model Family:                 Poisson   Df Model:                            2\n",
       "Link Function:                    Log   Scale:                          1.0000\n",
       "Method:                          IRLS   Log-Likelihood:                -235.29\n",
       "Date:                Thu, 28 Mar 2024   Deviance:                       84.808\n",
       "Time:                        21:17:43   Pearson chi2:                     83.8\n",
       "No. Iterations:                     4   Pseudo R-squ. (CS):            0.04590\n",
       "Covariance Type:            nonrobust                                         \n",
       "==============================================================================\n",
       "                 coef    std err          z      P>|z|      [0.025      0.975]\n",
       "------------------------------------------------------------------------------\n",
       "Intercept      1.2631      0.370      3.417      0.001       0.539       1.988\n",
       "f[T.T]        -0.0320      0.074     -0.430      0.667      -0.178       0.114\n",
       "x              0.0801      0.037      2.162      0.031       0.007       0.153\n",
       "==============================================================================\n",
       "\"\"\""
      ]
     },
     "execution_count": 18,
     "metadata": {},
     "output_type": "execute_result"
    }
   ],
   "source": [
    "#カテゴリ変数を使う場合は,Pandas.DataFrameに変換する\n",
    "model3 = smf.glm(\"y ~ x + f\", d.to_pandas(), family = sm.families.Poisson()).fit()\n",
    "model3.summary()"
   ]
  },
  {
   "cell_type": "code",
   "execution_count": 19,
   "metadata": {},
   "outputs": [
    {
     "data": {
      "text/plain": [
       "-235.2937192424937"
      ]
     },
     "execution_count": 19,
     "metadata": {},
     "output_type": "execute_result"
    }
   ],
   "source": [
    "# 対数尤度\n",
    "model3.llf"
   ]
  },
  {
   "cell_type": "markdown",
   "metadata": {},
   "source": [
    "### 3.6.1 対数リンク関数の分かりやすさ"
   ]
  },
  {
   "cell_type": "markdown",
   "metadata": {},
   "source": [
    "## 3.7 「何でも正規分布」「何でも直線」には無理がある"
   ]
  },
  {
   "cell_type": "markdown",
   "metadata": {},
   "source": [
    "## 3.8 この章のまとめと参考文献\n",
    "* 一般化線形モデル(GLM)はポアソン回帰やロジスティック回帰(第6章)など,いくつかの制約を満たしている統計モデルたちの総称である.\n",
    "* Rを使うとデータを要約したいろいろな統計量を調べられる.\n",
    "* 統計モデルを作るためにはでーたを図示することがとても大切である.\n",
    "* GLMは確率分布・リンク関数・線形予測子を指定する統計モデルであり,Rのlgm()関数でパラメーターを推定できる.\n",
    "* 統計モデルの因子型の説明変数は,ダミー変数という考え方で(とりあえず)理解できる.\n",
    "* GLMでは数量型・因子型の両タイプの説明変数を同時に読み込んでよく,またそのときに対数リンク関数を使っていると説明変数の効果が,それぞれの積として表現できるので理解しやすい.\n",
    "* GLMの設計では,データをうまく表現できる確率分布を選ぶという発想なので,「何でも正規分布といった考え方から脱却できる.\n",
    "\n",
    "* Dobson & Barnett「一般化線形モデル入門」「An introduction to generalized linear models」\n",
    "* Crawley 「統計学:Rを用いた入門書」\n",
    "* Venables & Ripley 「Modern applied statistics with S」\n",
    "* Faraway 「Extending the linear model with R」"
   ]
  },
  {
   "cell_type": "code",
   "execution_count": 20,
   "metadata": {},
   "outputs": [
    {
     "name": "stdout",
     "output_type": "stream",
     "text": [
      "numpy              : 1.26.4\n",
      "japanize_matplotlib: 1.1.3\n",
      "seaborn            : 0.12.2\n",
      "matplotlib         : 3.8.0\n",
      "polars             : 0.20.16\n",
      "statsmodels        : 0.14.0\n",
      "\n"
     ]
    }
   ],
   "source": [
    "%load_ext watermark\n",
    "%watermark --iversions"
   ]
  }
 ],
 "metadata": {
  "kernelspec": {
   "display_name": "pymc_env",
   "language": "python",
   "name": "python3"
  },
  "language_info": {
   "codemirror_mode": {
    "name": "ipython",
    "version": 3
   },
   "file_extension": ".py",
   "mimetype": "text/x-python",
   "name": "python",
   "nbconvert_exporter": "python",
   "pygments_lexer": "ipython3",
   "version": "3.12.2"
  }
 },
 "nbformat": 4,
 "nbformat_minor": 2
}
