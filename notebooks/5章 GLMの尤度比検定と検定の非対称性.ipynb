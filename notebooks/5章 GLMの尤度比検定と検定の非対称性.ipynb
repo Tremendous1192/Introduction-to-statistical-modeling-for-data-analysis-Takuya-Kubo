{
 "cells": [
  {
   "cell_type": "markdown",
   "metadata": {},
   "source": [
    "# 5章 GLMの尤度比検定と検定の非対称性"
   ]
  },
  {
   "cell_type": "markdown",
   "metadata": {},
   "source": [
    "### ライブラリのインポート"
   ]
  },
  {
   "cell_type": "code",
   "execution_count": 139,
   "metadata": {},
   "outputs": [],
   "source": [
    "import polars as pl\n",
    "import numpy as np\n",
    "\n",
    "import statsmodels.formula.api as smf\n",
    "import statsmodels.api as sm\n",
    "\n",
    "import seaborn as sns\n",
    "import matplotlib.pyplot as plt\n",
    "import japanize_matplotlib\n",
    "\n",
    "from scipy.stats import poisson\n",
    "\n",
    "from statsmodels.stats.anova import anova_lm"
   ]
  },
  {
   "cell_type": "markdown",
   "metadata": {},
   "source": [
    "## 5.1 統計的な検定のわくぐみ"
   ]
  },
  {
   "cell_type": "markdown",
   "metadata": {},
   "source": [
    "## 5.2 尤度検定の例題: 逸脱度の差を調べる"
   ]
  },
  {
   "cell_type": "code",
   "execution_count": 120,
   "metadata": {},
   "outputs": [
    {
     "name": "stdout",
     "output_type": "stream",
     "text": [
      "\n",
      "一定モデル\n",
      "log L: -237.6\n",
      "deviance - 2log L: 475.3\n",
      "redisual  deviance: 89.5\n",
      "AIC: 477.3\n",
      "\n",
      "xモデル\n",
      "log L: -235.4\n",
      "deviance - 2log L: 470.8\n",
      "redisual  deviance: 85.0\n",
      "AIC: 474.8\n"
     ]
    }
   ],
   "source": [
    "# データを読み込む\n",
    "d = pl.read_parquet(\"../data/ch 03/data3a.parquet\").to_pandas()\n",
    "\n",
    "# 一般化線形モデル\n",
    "# 一定\n",
    "form_const = \"y ~ 0 + np.power(x, 0)\"\n",
    "model_const = smf.glm(formula = form_const, data = d, family = sm.families.Poisson()).fit()\n",
    "# x\n",
    "form_x = \"y ~ x\"\n",
    "model_x = smf.glm(formula = form_x, data = d, family = sm.families.Poisson()).fit()\n",
    "\n",
    "# モデルのあてはまりの悪さ\n",
    "print(\"\\n一定モデル\")\n",
    "print(\"log L:\", np.round(model_const.llf, 1))# 対数尤度\n",
    "print(\"deviance - 2log L:\", np.round(-2 * model_const.llf, 1))# 逸脱度?\n",
    "print(\"redisual  deviance:\", np.round(model_const.deviance, 1))# 残差逸脱度\n",
    "print(\"AIC:\", np.round(model_const.aic, 1))# AIC\n",
    "\n",
    "print(\"\\nxモデル\")\n",
    "print(\"log L:\", np.round(model_x.llf, 1))# 対数尤度\n",
    "print(\"deviance - 2log L:\", np.round(-2 * model_x.llf, 1))# 逸脱度?\n",
    "print(\"redisual  deviance:\", np.round(model_x.deviance, 1))# 残差逸脱度\n",
    "print(\"AIC:\", np.round(model_x.aic, 1))# AIC"
   ]
  },
  {
   "cell_type": "markdown",
   "metadata": {},
   "source": [
    "表5.1 一定モデルと$x$モデルんお対数尤度・逸脱度・AIC\n",
    "| モデル | k | $\\log L$ | deviance -2 $\\log L$ | residual deviance | AIC |\n",
    "| ---- | ---- | ---- | ----- | ---- | ---- |\n",
    "| 一定 | 1 | -237.6 | 475.3 | 89.5 | 477.3 |\n",
    "| $x$ | 2 | -235.4 | 470.8 | 85.0 | 474.8 |\n",
    "\n",
    "尤度比検定では尤度比の対数をとり2をかける.\\\n",
    "すなわち逸脱度の差\n",
    "\n",
    "$\\Delta _ {1, 2} = -2 \\times ( \\log L_1 - \\log L_2 )$\n",
    "\n",
    "を統計検定料として使います."
   ]
  },
  {
   "cell_type": "code",
   "execution_count": 99,
   "metadata": {},
   "outputs": [
    {
     "name": "stdout",
     "output_type": "stream",
     "text": [
      "逸脱度の差: 4.5\n"
     ]
    }
   ],
   "source": [
    "print(\"逸脱度の差:\", np.round(-2 * ( model_const.llf - model_x.llf ), 1))"
   ]
  },
  {
   "cell_type": "markdown",
   "metadata": {},
   "source": [
    "## 5.3 2種類の過誤と統計的な検定の非対称性"
   ]
  },
  {
   "cell_type": "markdown",
   "metadata": {},
   "source": [
    "## 5.4 帰無仮説を棄却するための有意水準"
   ]
  },
  {
   "cell_type": "markdown",
   "metadata": {},
   "source": [
    "### 5.4.1 方法(1) 汎用性のあるパラメトリックブートストラップ法"
   ]
  },
  {
   "cell_type": "code",
   "execution_count": 100,
   "metadata": {},
   "outputs": [
    {
     "name": "stdout",
     "output_type": "stream",
     "text": [
      "逸脱度の差 4.5139\n"
     ]
    }
   ],
   "source": [
    "print(\"逸脱度の差\", np.round(model_const.deviance - model_x.deviance, 4))\n",
    "delta_result = np.round(model_const.deviance - model_x.deviance, 2)"
   ]
  },
  {
   "cell_type": "code",
   "execution_count": 101,
   "metadata": {},
   "outputs": [],
   "source": [
    "d[\"y_rnd\"] = poisson.rvs(mu = d[\"y\"].mean(), loc = 0, size = len(d), random_state = 1192)"
   ]
  },
  {
   "cell_type": "code",
   "execution_count": 102,
   "metadata": {},
   "outputs": [
    {
     "name": "stdout",
     "output_type": "stream",
     "text": [
      "逸脱度の差 0.2293\n"
     ]
    }
   ],
   "source": [
    "# 一般化線形モデル\n",
    "# 一定\n",
    "form_const = \"y_rnd ~ 0 + np.power(x, 0)\"\n",
    "model_const = smf.glm(formula = form_const, data = d, family = sm.families.Poisson()).fit()\n",
    "# x\n",
    "form_x = \"y_rnd ~ x\"\n",
    "model_x = smf.glm(formula = form_x, data = d, family = sm.families.Poisson()).fit()\n",
    "print(\"逸脱度の差\", np.round(model_const.deviance - model_x.deviance, 4))"
   ]
  },
  {
   "cell_type": "markdown",
   "metadata": {},
   "source": [
    "手順\n",
    "1. 平均$\\bar{y}$のポアソン乱数を```d[\"y_rnd]```に格納する.\n",
    "2. ```d[\"y_rnd]```に対する一定モデル, $x$モデルの```glm()```の推定結果を,それぞれ```model_const```,```model_x```に格納する.\n",
    "3. 逸脱度の差```model_const.deviance - model_x.deviance```を計算する."
   ]
  },
  {
   "cell_type": "code",
   "execution_count": 103,
   "metadata": {},
   "outputs": [],
   "source": [
    "deltas = []\n",
    "\n",
    "for i in range(2, 2 + 1000):\n",
    "    d[\"y_rnd\"] = poisson.rvs(mu = d[\"y\"].mean(), loc = 0, size = len(d), random_state = i * 2)\n",
    "\n",
    "    # 一般化線形モデル\n",
    "    # 一定\n",
    "    form_const = \"y_rnd ~ 0 + np.power(x, 0)\"\n",
    "    model_const = smf.glm(formula = form_const, data = d, family = sm.families.Poisson()).fit()\n",
    "    # x\n",
    "    form_x = \"y_rnd ~ x\"\n",
    "    model_x = smf.glm(formula = form_x, data = d, family = sm.families.Poisson()).fit()\n",
    "\n",
    "    deltas.append(np.round(model_const.deviance - model_x.deviance, 4))\n",
    "\n",
    "s_deltas = pl.Series(\"delta\", deltas).to_pandas()"
   ]
  },
  {
   "cell_type": "code",
   "execution_count": 104,
   "metadata": {},
   "outputs": [
    {
     "data": {
      "text/plain": [
       "count    1000.000000\n",
       "mean        0.983841\n",
       "std         1.402084\n",
       "min         0.000000\n",
       "25%         0.090150\n",
       "50%         0.401100\n",
       "75%         1.230500\n",
       "max        10.595300\n",
       "Name: delta, dtype: float64"
      ]
     },
     "execution_count": 104,
     "metadata": {},
     "output_type": "execute_result"
    }
   ],
   "source": [
    "s_deltas.describe()"
   ]
  },
  {
   "cell_type": "code",
   "execution_count": 107,
   "metadata": {},
   "outputs": [
    {
     "data": {
      "text/plain": [
       "Text(0.5, 1.0, '図5.4 逸脱度の差ΔD1,2の確率分布')"
      ]
     },
     "execution_count": 107,
     "metadata": {},
     "output_type": "execute_result"
    },
    {
     "data": {
      "image/png": "[encoded data removed]",
      "text/plain": [
       "<Figure size 640x480 with 1 Axes>"
      ]
     },
     "metadata": {},
     "output_type": "display_data"
    }
   ],
   "source": [
    "sns.histplot(data = s_deltas)\n",
    "plt.axvline(x = delta_result, ymin = 0, ymax = 400, color = \"red\")\n",
    "plt.ylim(0, 400)\n",
    "plt.title(\"図5.4 逸脱度の差ΔD1,2の確率分布\")"
   ]
  },
  {
   "cell_type": "code",
   "execution_count": 108,
   "metadata": {},
   "outputs": [
    {
     "data": {
      "text/plain": [
       "32"
      ]
     },
     "execution_count": 108,
     "metadata": {},
     "output_type": "execute_result"
    }
   ],
   "source": [
    "len(s_deltas[ s_deltas >= delta_result ])"
   ]
  },
  {
   "cell_type": "markdown",
   "metadata": {},
   "source": [
    "実測値の逸脱度の差4.5より大きかったシミュレーション値は32個あった.\\\n",
    "「逸脱度の差が4.5より大きくなる確率」は$32/1000$,すなわち$P = 0.032$ということになる."
   ]
  },
  {
   "cell_type": "code",
   "execution_count": 114,
   "metadata": {},
   "outputs": [
    {
     "data": {
      "text/plain": [
       "4.03"
      ]
     },
     "execution_count": 114,
     "metadata": {},
     "output_type": "execute_result"
    }
   ],
   "source": [
    "s_deltas.quantile(q = 0.95).round(2)"
   ]
  },
  {
   "cell_type": "markdown",
   "metadata": {},
   "source": [
    "逸脱度の差が4.03までは「よくある差」とみなす."
   ]
  },
  {
   "cell_type": "markdown",
   "metadata": {},
   "source": [
    "### 5.4.2 方法(2) $\\chi ^ 2$分布を使った近似値計算"
   ]
  },
  {
   "cell_type": "markdown",
   "metadata": {},
   "source": [
    "## 5.5 「帰無仮説を棄却できない」は「差がない」ではない"
   ]
  },
  {
   "cell_type": "markdown",
   "metadata": {},
   "source": [
    "## 5.6 検定とモデル選択,そして推定された統計モデルの解釈"
   ]
  },
  {
   "cell_type": "markdown",
   "metadata": {},
   "source": [
    "## 5.7 この章のまとめと参考文献\n",
    "* Neyman-Pearsonの統計学的検定のわくぐみでは,パラメータ数の少ないモデルを帰無仮説と位置づけ,帰無仮説が棄却できるかどうかの確率評価に専念する.\n",
    "* 尤度比検定の検定統計量はふたつの統計モデルの逸脱度差である.\n",
    "* 検定における過誤は2種類あるが,Neyman-Pearsonの検定の枠組みでは帰無仮説の誤棄却を重視する.\n",
    "* 帰無仮説を棄却する優位水準 $\\alpha$ の大きさは解析者が任意に決めるものであり,たとえば $\\alpha = 0.05$ が良く使われているが,これは何か特別な根拠に基づくものではない.\n",
    "* NeymanPearsonの検定のわくぐみでは,第一種の過誤の大きさを正確に評価できるが,いっぽうで帰無仮説が棄却できない場合の結論は何も言えない,つまり判断を保留するしかない.\n",
    "* 検定やモデル選択の結果だけにちゅうもくするだけではなく,推定された統計モデルが対象となる現象の挙動を,どのように予測しているかも確認するべきだ.\n",
    "\n",
    "* Hoel 「入門数理統計学」\n",
    "* Hoelら「統計理論入門」\n",
    "* 東京大学教養学部統計学教室編「自然科学の統計学」\n",
    "* Roff「生物学のための計算統計学-最尤法,ブートストラップ,無作為化法」"
   ]
  }
 ],
 "metadata": {
  "kernelspec": {
   "display_name": "pymc_env",
   "language": "python",
   "name": "python3"
  },
  "language_info": {
   "codemirror_mode": {
    "name": "ipython",
    "version": 3
   },
   "file_extension": ".py",
   "mimetype": "text/x-python",
   "name": "python",
   "nbconvert_exporter": "python",
   "pygments_lexer": "ipython3",
   "version": "3.12.2"
  }
 },
 "nbformat": 4,
 "nbformat_minor": 2
}
